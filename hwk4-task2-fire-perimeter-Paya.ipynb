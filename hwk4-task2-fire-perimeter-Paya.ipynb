{
 "cells": [
  {
   "cell_type": "markdown",
   "id": "032d0817-779b-4c12-8b8c-38a5d67bcb9f",
   "metadata": {},
   "source": [
    "# Task 2: Visualizing fire scars through false color"
   ]
  },
  {
   "cell_type": "markdown",
   "id": "8b6f4f33-8670-40eb-9908-9c6cc6bceb9e",
   "metadata": {
    "tags": []
   },
   "source": [
    "**Github Repository:**\n",
    "\n",
    "https://github.com/kpaya/EDS220-hmwk4"
   ]
  },
  {
   "cell_type": "markdown",
   "id": "713f770f-5bc5-468a-9020-3a1717854108",
   "metadata": {},
   "source": [
    "## Datasets description"
   ]
  },
  {
   "cell_type": "markdown",
   "id": "43f3f6c4-1695-4d62-83d5-1a957df592f6",
   "metadata": {},
   "source": [
    "The Thomas Fire, which burned over 280,000 acres in Ventura and Santa Barbara counties in December 2017, was one of California’s largest wildfires at the time. \n",
    "\n",
    "The following analysis uses a historical open-access dataset(1878-2023). The fire perimeter dataset contains spatial information for various fire incidents, including the fire perimeter of the Thomas Fire during 2017.\n",
    "\n",
    "Source:\n",
    "\n",
    "Data Gov. 2024. California fire perimeters (all). CAL FIRE. Retrieved Nov.14,2024 from https://catalog.data.gov/dataset/california-fire-perimeters-all-b3436"
   ]
  },
  {
   "cell_type": "markdown",
   "id": "155889af-af16-4a6d-8df6-40f2b896c7be",
   "metadata": {},
   "source": [
    "## 2. Fire perimeter data retrieval and selection"
   ]
  },
  {
   "cell_type": "code",
   "execution_count": 15,
   "id": "596a2fce-e59e-4da5-b46e-991ca36d9b90",
   "metadata": {},
   "outputs": [],
   "source": [
    "# Import libraries\n",
    "import os\n",
    "import numpy as np\n",
    "import pandas as pd\n",
    "import matplotlib.pyplot as plt\n",
    "import geopandas as gpd\n",
    "import xarray as xr\n",
    "import rioxarray as rioxr"
   ]
  },
  {
   "cell_type": "code",
   "execution_count": 23,
   "id": "19d32d3d-693e-4883-9ebf-656ba0f7668a",
   "metadata": {},
   "outputs": [],
   "source": [
    "# Read data\n",
    "fp=os.path.join('/Users/kpaya/MEDS/EDS220/eds220-hmwk/EDS220-hmwk4/data/California_Fire_Perimeters_(all).shp')\n",
    "fire_perimeter=gpd.read_file(fp)"
   ]
  },
  {
   "cell_type": "markdown",
   "id": "5137d539-95ff-4eb1-8b32-270a776ace63",
   "metadata": {},
   "source": [
    "## Data Exploration for fire_perimeter"
   ]
  },
  {
   "cell_type": "code",
   "execution_count": null,
   "id": "096a6135-6d99-4395-b9d6-b8aafef60036",
   "metadata": {
    "tags": []
   },
   "outputs": [
    {
     "data": {
      "text/html": [
       "<div>\n",
       "<style scoped>\n",
       "    .dataframe tbody tr th:only-of-type {\n",
       "        vertical-align: middle;\n",
       "    }\n",
       "\n",
       "    .dataframe tbody tr th {\n",
       "        vertical-align: top;\n",
       "    }\n",
       "\n",
       "    .dataframe thead th {\n",
       "        text-align: right;\n",
       "    }\n",
       "</style>\n",
       "<table border=\"1\" class=\"dataframe\">\n",
       "  <thead>\n",
       "    <tr style=\"text-align: right;\">\n",
       "      <th></th>\n",
       "      <th>YEAR_</th>\n",
       "      <th>STATE</th>\n",
       "      <th>AGENCY</th>\n",
       "      <th>UNIT_ID</th>\n",
       "      <th>FIRE_NAME</th>\n",
       "      <th>INC_NUM</th>\n",
       "      <th>ALARM_DATE</th>\n",
       "      <th>CONT_DATE</th>\n",
       "      <th>CAUSE</th>\n",
       "      <th>C_METHOD</th>\n",
       "      <th>OBJECTIVE</th>\n",
       "      <th>GIS_ACRES</th>\n",
       "      <th>COMMENTS</th>\n",
       "      <th>COMPLEX_NA</th>\n",
       "      <th>IRWINID</th>\n",
       "      <th>FIRE_NUM</th>\n",
       "      <th>COMPLEX_ID</th>\n",
       "      <th>DECADES</th>\n",
       "      <th>geometry</th>\n",
       "    </tr>\n",
       "  </thead>\n",
       "  <tbody>\n",
       "    <tr>\n",
       "      <th>0</th>\n",
       "      <td>2023</td>\n",
       "      <td>CA</td>\n",
       "      <td>CDF</td>\n",
       "      <td>SKU</td>\n",
       "      <td>WHITWORTH</td>\n",
       "      <td>00004808</td>\n",
       "      <td>2023-06-17</td>\n",
       "      <td>2023-06-17</td>\n",
       "      <td>5</td>\n",
       "      <td>1</td>\n",
       "      <td>1</td>\n",
       "      <td>5.72913</td>\n",
       "      <td>None</td>\n",
       "      <td>None</td>\n",
       "      <td>{7985848C-0AC2-4BA4-8F0E-29F778652E61}</td>\n",
       "      <td>None</td>\n",
       "      <td>None</td>\n",
       "      <td>2020</td>\n",
       "      <td>POLYGON ((-13682443.000 5091132.739, -13682445...</td>\n",
       "    </tr>\n",
       "    <tr>\n",
       "      <th>1</th>\n",
       "      <td>2023</td>\n",
       "      <td>CA</td>\n",
       "      <td>LRA</td>\n",
       "      <td>BTU</td>\n",
       "      <td>KAISER</td>\n",
       "      <td>00010225</td>\n",
       "      <td>2023-06-02</td>\n",
       "      <td>2023-06-02</td>\n",
       "      <td>5</td>\n",
       "      <td>1</td>\n",
       "      <td>1</td>\n",
       "      <td>13.60240</td>\n",
       "      <td>None</td>\n",
       "      <td>None</td>\n",
       "      <td>{43EBCC88-B3AC-48EB-8EF5-417FE0939CCF}</td>\n",
       "      <td>None</td>\n",
       "      <td>None</td>\n",
       "      <td>2020</td>\n",
       "      <td>POLYGON ((-13576727.142 4841226.161, -13576726...</td>\n",
       "    </tr>\n",
       "    <tr>\n",
       "      <th>2</th>\n",
       "      <td>2023</td>\n",
       "      <td>CA</td>\n",
       "      <td>CDF</td>\n",
       "      <td>AEU</td>\n",
       "      <td>JACKSON</td>\n",
       "      <td>00017640</td>\n",
       "      <td>2023-07-01</td>\n",
       "      <td>2023-07-02</td>\n",
       "      <td>2</td>\n",
       "      <td>1</td>\n",
       "      <td>1</td>\n",
       "      <td>27.81450</td>\n",
       "      <td>None</td>\n",
       "      <td>None</td>\n",
       "      <td>{B64E1355-BF1D-441A-95D0-BC1FBB93483B}</td>\n",
       "      <td>None</td>\n",
       "      <td>None</td>\n",
       "      <td>2020</td>\n",
       "      <td>POLYGON ((-13459243.000 4621236.000, -13458968...</td>\n",
       "    </tr>\n",
       "  </tbody>\n",
       "</table>\n",
       "</div>"
      ],
      "text/plain": [
       "   YEAR_ STATE AGENCY UNIT_ID  FIRE_NAME   INC_NUM  ALARM_DATE   CONT_DATE  \\\n",
       "0   2023    CA    CDF     SKU  WHITWORTH  00004808  2023-06-17  2023-06-17   \n",
       "1   2023    CA    LRA     BTU     KAISER  00010225  2023-06-02  2023-06-02   \n",
       "2   2023    CA    CDF     AEU    JACKSON  00017640  2023-07-01  2023-07-02   \n",
       "\n",
       "   CAUSE  C_METHOD  OBJECTIVE  GIS_ACRES COMMENTS COMPLEX_NA  \\\n",
       "0      5         1          1    5.72913     None       None   \n",
       "1      5         1          1   13.60240     None       None   \n",
       "2      2         1          1   27.81450     None       None   \n",
       "\n",
       "                                  IRWINID FIRE_NUM COMPLEX_ID  DECADES  \\\n",
       "0  {7985848C-0AC2-4BA4-8F0E-29F778652E61}     None       None     2020   \n",
       "1  {43EBCC88-B3AC-48EB-8EF5-417FE0939CCF}     None       None     2020   \n",
       "2  {B64E1355-BF1D-441A-95D0-BC1FBB93483B}     None       None     2020   \n",
       "\n",
       "                                            geometry  \n",
       "0  POLYGON ((-13682443.000 5091132.739, -13682445...  \n",
       "1  POLYGON ((-13576727.142 4841226.161, -13576726...  \n",
       "2  POLYGON ((-13459243.000 4621236.000, -13458968...  "
      ]
     },
     "execution_count": 50,
     "metadata": {},
     "output_type": "execute_result"
    }
   ],
   "source": [
    "# Display the first few rows of the DataFrame to get an overview of the data\n",
    "\n",
    "fire_perimeter.head(3)"
   ]
  },
  {
   "cell_type": "code",
   "execution_count": null,
   "id": "7b6a4618-98c3-4679-bcb5-21eeaee0176d",
   "metadata": {},
   "outputs": [
    {
     "data": {
      "text/plain": [
       "Index(['YEAR_', 'STATE', 'AGENCY', 'UNIT_ID', 'FIRE_NAME', 'INC_NUM',\n",
       "       'ALARM_DATE', 'CONT_DATE', 'CAUSE', 'C_METHOD', 'OBJECTIVE',\n",
       "       'GIS_ACRES', 'COMMENTS', 'COMPLEX_NA', 'IRWINID', 'FIRE_NUM',\n",
       "       'COMPLEX_ID', 'DECADES', 'geometry'],\n",
       "      dtype='object')"
      ]
     },
     "execution_count": 20,
     "metadata": {},
     "output_type": "execute_result"
    }
   ],
   "source": [
    "# Diplay columns of the DataFrame\n",
    "\n",
    "fire_perimeter.columns"
   ]
  },
  {
   "cell_type": "code",
   "execution_count": 24,
   "id": "6ae593d9-4dff-4267-926b-69fc42d6bdba",
   "metadata": {
    "tags": []
   },
   "outputs": [
    {
     "data": {
      "text/plain": [
       "Index(['year', 'state', 'agency', 'unit_id', 'fire_name', 'inc_num',\n",
       "       'alarm_date', 'cont_date', 'cause', 'c_method', 'objective',\n",
       "       'gis_acres', 'comments', 'complex_na', 'irwinid', 'fire_num',\n",
       "       'complex_id', 'decades', 'geometry'],\n",
       "      dtype='object')"
      ]
     },
     "execution_count": 24,
     "metadata": {},
     "output_type": "execute_result"
    }
   ],
   "source": [
    "# Replace spaces with underscores and convert to lowercase\n",
    "\n",
    "fire_perimeter.columns = fire_perimeter.columns.str.rstrip().str.replace(' ', '_').str.lower()\n",
    "\n",
    "# Replace the column name 'year' explicitly to avoid '_'\n",
    "fire_perimeter.columns = fire_perimeter.columns.str.replace(r'year_', 'year')\n",
    "\n",
    "# Check results\n",
    "fire_perimeter.columns"
   ]
  },
  {
   "cell_type": "code",
   "execution_count": 31,
   "id": "aabbc12f-be8e-400b-b76b-1e7abe3a2ea1",
   "metadata": {
    "tags": []
   },
   "outputs": [
    {
     "name": "stdout",
     "output_type": "stream",
     "text": [
      "year             int64\n",
      "state           object\n",
      "agency          object\n",
      "unit_id         object\n",
      "fire_name       object\n",
      "inc_num         object\n",
      "alarm_date      object\n",
      "cont_date       object\n",
      "cause            int64\n",
      "c_method         int64\n",
      "objective        int64\n",
      "gis_acres      float64\n",
      "comments        object\n",
      "complex_na      object\n",
      "irwinid         object\n",
      "fire_num        object\n",
      "complex_id      object\n",
      "decades          int64\n",
      "geometry      geometry\n",
      "dtype: object\n"
     ]
    }
   ],
   "source": [
    "# Check type of each column\n",
    "\n",
    "print(fire_perimeter.dtypes)"
   ]
  },
  {
   "cell_type": "code",
   "execution_count": 32,
   "id": "fe50d334-636d-433e-8c14-c063311e2ef6",
   "metadata": {
    "tags": []
   },
   "outputs": [
    {
     "name": "stdout",
     "output_type": "stream",
     "text": [
      "<class 'geopandas.geodataframe.GeoDataFrame'>\n"
     ]
    }
   ],
   "source": [
    "# Check the data type of the dataframe \n",
    "\n",
    "print(type(fire_perimeter))"
   ]
  },
  {
   "cell_type": "code",
   "execution_count": 33,
   "id": "bdfafefa-2aed-4d02-a9e5-9fcde578fc4b",
   "metadata": {
    "tags": []
   },
   "outputs": [
    {
     "name": "stdout",
     "output_type": "stream",
     "text": [
      "<class 'geopandas.geoseries.GeoSeries'>\n"
     ]
    }
   ],
   "source": [
    "# Check the data type of the geometry column\n",
    "\n",
    "print(type(fire_perimeter.geometry))"
   ]
  },
  {
   "cell_type": "code",
   "execution_count": 21,
   "id": "77c35106-f342-4f7c-84e5-a4187301a104",
   "metadata": {},
   "outputs": [
    {
     "name": "stdout",
     "output_type": "stream",
     "text": [
      "The CRS of fire_perimeter is: epsg:3857\n"
     ]
    }
   ],
   "source": [
    "# Print dataset's projection\n",
    "print(f\"{'The CRS of fire_perimeter is:':} {fire_perimeter.crs}\")"
   ]
  },
  {
   "cell_type": "markdown",
   "id": "463301a4-0c60-4943-8e77-d02154b19aba",
   "metadata": {},
   "source": [
    "# Summary\n",
    "\n",
    "The results of the preliminary exploration are the following:\n",
    "\n",
    "Data Structure:\n",
    "\n",
    "The dataset consists of 17 columns, with information such as fire year (year), state, agency, etc.\n",
    "\n",
    "The geometry column contains spatial information (polygons representing the fire perimeters)\n",
    "\n",
    "Column Names:\n",
    "\n",
    "The column names were cleaned to replace spaces with underscores and convert them to lowercase for easier processing and consistency, (for example: YEAR_ was changed to year)\n",
    "\n",
    "Data Types:\n",
    "\n",
    "The dataset is a GeoDataFrame, as indicated by the type(fire_perimeter) output\n",
    "The geometry column is a GeoSeries, which is a data structure for handling geometric shapes in geospatial analysis.\n",
    "\n",
    "Coordinate Reference System (CRS):\n",
    "\n",
    "The dataset uses the EPSG:3857 coordinate reference system (CRS), which is a projected coordinate system."
   ]
  },
  {
   "cell_type": "markdown",
   "id": "f9b2be9c-d6eb-4857-ba3b-70893fac075b",
   "metadata": {},
   "source": [
    "## Data Pre-processing\n"
   ]
  },
  {
   "cell_type": "code",
   "execution_count": 26,
   "id": "16e2cfe6-0209-4b16-82aa-6b0364658761",
   "metadata": {
    "tags": []
   },
   "outputs": [],
   "source": [
    "# Filter the fire perimeter for the 2017 Thomas Fire\n",
    "thomas_fire = fire_perimeter[(fire_perimeter['fire_name'] == 'THOMAS') & (fire_perimeter['year'] == 2017)]\n",
    "\n",
    "# Define the file path where the shapefile will be saved (adjust the path as needed)\n",
    "output_path = 'data/thomas_fire_2017_boundary.shp'\n",
    "\n",
    "# Export the filtered boundary to a shapefile\n",
    "thomas_fire.to_file(output_path)\n"
   ]
  },
  {
   "cell_type": "markdown",
   "id": "b53be500-8055-490b-aff6-194abe2fc91d",
   "metadata": {},
   "source": [
    "By exporting the thomas_fire_2017 boundary as a .shp file, it enables us to:\n",
    "\n",
    "- use a standard vector-based spatial operations on the fire perimeter\n",
    "\n",
    "- Overlay and analysis of both vector and raster"
   ]
  }
 ],
 "metadata": {
  "kernelspec": {
   "display_name": "Anaconda 3 (Base)",
   "language": "python",
   "name": "base"
  },
  "language_info": {
   "codemirror_mode": {
    "name": "ipython",
    "version": 3
   },
   "file_extension": ".py",
   "mimetype": "text/x-python",
   "name": "python",
   "nbconvert_exporter": "python",
   "pygments_lexer": "ipython3",
   "version": "3.9.13"
  }
 },
 "nbformat": 4,
 "nbformat_minor": 5
}
