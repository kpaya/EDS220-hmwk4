{
 "cells": [
  {
   "cell_type": "markdown",
   "id": "032d0817-779b-4c12-8b8c-38a5d67bcb9f",
   "metadata": {},
   "source": [
    "# Task 2: Visualizing fire scars through false color"
   ]
  },
  {
   "cell_type": "markdown",
   "id": "713f770f-5bc5-468a-9020-3a1717854108",
   "metadata": {},
   "source": [
    "## Datasets description"
   ]
  },
  {
   "cell_type": "markdown",
   "id": "155889af-af16-4a6d-8df6-40f2b896c7be",
   "metadata": {},
   "source": [
    "## 2. Fire perimeter data retrieval and selection"
   ]
  },
  {
   "cell_type": "markdown",
   "id": "51ec0608-e053-4cad-82d6-f873c588388e",
   "metadata": {},
   "source": [
    "Explore the data and write a brief summary of the information you obtained from the preliminary information. Your summary should include the CRS of the data and whether this is projected or geographic."
   ]
  },
  {
   "cell_type": "code",
   "execution_count": 4,
   "id": "596a2fce-e59e-4da5-b46e-991ca36d9b90",
   "metadata": {},
   "outputs": [],
   "source": [
    "# Import libraries\n",
    "import os\n",
    "import numpy as np\n",
    "import pandas as pd\n",
    "import geopandas as gpd\n",
    "import xarray as xr\n",
    "import rioxarray as rioxr"
   ]
  },
  {
   "cell_type": "code",
   "execution_count": 9,
   "id": "19d32d3d-693e-4883-9ebf-656ba0f7668a",
   "metadata": {},
   "outputs": [],
   "source": [
    "# Read data\n",
    "landsat = rioxr.open_rasterio('data/landsat8-2018-01-26-sb-simplified.nc')"
   ]
  },
  {
   "cell_type": "markdown",
   "id": "a18159ad-1bc2-4a00-b6d9-4829f4ad29a9",
   "metadata": {
    "tags": []
   },
   "source": [
    "## Exploration"
   ]
  },
  {
   "cell_type": "code",
   "execution_count": 10,
   "id": "097dec7a-1f99-4c84-a97f-b09ae5ad1065",
   "metadata": {},
   "outputs": [
    {
     "data": {
      "text/html": [
       "<div><svg style=\"position: absolute; width: 0; height: 0; overflow: hidden\">\n",
       "<defs>\n",
       "<symbol id=\"icon-database\" viewBox=\"0 0 32 32\">\n",
       "<path d=\"M16 0c-8.837 0-16 2.239-16 5v4c0 2.761 7.163 5 16 5s16-2.239 16-5v-4c0-2.761-7.163-5-16-5z\"></path>\n",
       "<path d=\"M16 17c-8.837 0-16-2.239-16-5v6c0 2.761 7.163 5 16 5s16-2.239 16-5v-6c0 2.761-7.163 5-16 5z\"></path>\n",
       "<path d=\"M16 26c-8.837 0-16-2.239-16-5v6c0 2.761 7.163 5 16 5s16-2.239 16-5v-6c0 2.761-7.163 5-16 5z\"></path>\n",
       "</symbol>\n",
       "<symbol id=\"icon-file-text2\" viewBox=\"0 0 32 32\">\n",
       "<path d=\"M28.681 7.159c-0.694-0.947-1.662-2.053-2.724-3.116s-2.169-2.030-3.116-2.724c-1.612-1.182-2.393-1.319-2.841-1.319h-15.5c-1.378 0-2.5 1.121-2.5 2.5v27c0 1.378 1.122 2.5 2.5 2.5h23c1.378 0 2.5-1.122 2.5-2.5v-19.5c0-0.448-0.137-1.23-1.319-2.841zM24.543 5.457c0.959 0.959 1.712 1.825 2.268 2.543h-4.811v-4.811c0.718 0.556 1.584 1.309 2.543 2.268zM28 29.5c0 0.271-0.229 0.5-0.5 0.5h-23c-0.271 0-0.5-0.229-0.5-0.5v-27c0-0.271 0.229-0.5 0.5-0.5 0 0 15.499-0 15.5 0v7c0 0.552 0.448 1 1 1h7v19.5z\"></path>\n",
       "<path d=\"M23 26h-14c-0.552 0-1-0.448-1-1s0.448-1 1-1h14c0.552 0 1 0.448 1 1s-0.448 1-1 1z\"></path>\n",
       "<path d=\"M23 22h-14c-0.552 0-1-0.448-1-1s0.448-1 1-1h14c0.552 0 1 0.448 1 1s-0.448 1-1 1z\"></path>\n",
       "<path d=\"M23 18h-14c-0.552 0-1-0.448-1-1s0.448-1 1-1h14c0.552 0 1 0.448 1 1s-0.448 1-1 1z\"></path>\n",
       "</symbol>\n",
       "</defs>\n",
       "</svg>\n",
       "<style>/* CSS stylesheet for displaying xarray objects in jupyterlab.\n",
       " *\n",
       " */\n",
       "\n",
       ":root {\n",
       "  --xr-font-color0: var(--jp-content-font-color0, rgba(0, 0, 0, 1));\n",
       "  --xr-font-color2: var(--jp-content-font-color2, rgba(0, 0, 0, 0.54));\n",
       "  --xr-font-color3: var(--jp-content-font-color3, rgba(0, 0, 0, 0.38));\n",
       "  --xr-border-color: var(--jp-border-color2, #e0e0e0);\n",
       "  --xr-disabled-color: var(--jp-layout-color3, #bdbdbd);\n",
       "  --xr-background-color: var(--jp-layout-color0, white);\n",
       "  --xr-background-color-row-even: var(--jp-layout-color1, white);\n",
       "  --xr-background-color-row-odd: var(--jp-layout-color2, #eeeeee);\n",
       "}\n",
       "\n",
       "html[theme=dark],\n",
       "body.vscode-dark {\n",
       "  --xr-font-color0: rgba(255, 255, 255, 1);\n",
       "  --xr-font-color2: rgba(255, 255, 255, 0.54);\n",
       "  --xr-font-color3: rgba(255, 255, 255, 0.38);\n",
       "  --xr-border-color: #1F1F1F;\n",
       "  --xr-disabled-color: #515151;\n",
       "  --xr-background-color: #111111;\n",
       "  --xr-background-color-row-even: #111111;\n",
       "  --xr-background-color-row-odd: #313131;\n",
       "}\n",
       "\n",
       ".xr-wrap {\n",
       "  display: block;\n",
       "  min-width: 300px;\n",
       "  max-width: 700px;\n",
       "}\n",
       "\n",
       ".xr-text-repr-fallback {\n",
       "  /* fallback to plain text repr when CSS is not injected (untrusted notebook) */\n",
       "  display: none;\n",
       "}\n",
       "\n",
       ".xr-header {\n",
       "  padding-top: 6px;\n",
       "  padding-bottom: 6px;\n",
       "  margin-bottom: 4px;\n",
       "  border-bottom: solid 1px var(--xr-border-color);\n",
       "}\n",
       "\n",
       ".xr-header > div,\n",
       ".xr-header > ul {\n",
       "  display: inline;\n",
       "  margin-top: 0;\n",
       "  margin-bottom: 0;\n",
       "}\n",
       "\n",
       ".xr-obj-type,\n",
       ".xr-array-name {\n",
       "  margin-left: 2px;\n",
       "  margin-right: 10px;\n",
       "}\n",
       "\n",
       ".xr-obj-type {\n",
       "  color: var(--xr-font-color2);\n",
       "}\n",
       "\n",
       ".xr-sections {\n",
       "  padding-left: 0 !important;\n",
       "  display: grid;\n",
       "  grid-template-columns: 150px auto auto 1fr 20px 20px;\n",
       "}\n",
       "\n",
       ".xr-section-item {\n",
       "  display: contents;\n",
       "}\n",
       "\n",
       ".xr-section-item input {\n",
       "  display: none;\n",
       "}\n",
       "\n",
       ".xr-section-item input + label {\n",
       "  color: var(--xr-disabled-color);\n",
       "}\n",
       "\n",
       ".xr-section-item input:enabled + label {\n",
       "  cursor: pointer;\n",
       "  color: var(--xr-font-color2);\n",
       "}\n",
       "\n",
       ".xr-section-item input:enabled + label:hover {\n",
       "  color: var(--xr-font-color0);\n",
       "}\n",
       "\n",
       ".xr-section-summary {\n",
       "  grid-column: 1;\n",
       "  color: var(--xr-font-color2);\n",
       "  font-weight: 500;\n",
       "}\n",
       "\n",
       ".xr-section-summary > span {\n",
       "  display: inline-block;\n",
       "  padding-left: 0.5em;\n",
       "}\n",
       "\n",
       ".xr-section-summary-in:disabled + label {\n",
       "  color: var(--xr-font-color2);\n",
       "}\n",
       "\n",
       ".xr-section-summary-in + label:before {\n",
       "  display: inline-block;\n",
       "  content: '►';\n",
       "  font-size: 11px;\n",
       "  width: 15px;\n",
       "  text-align: center;\n",
       "}\n",
       "\n",
       ".xr-section-summary-in:disabled + label:before {\n",
       "  color: var(--xr-disabled-color);\n",
       "}\n",
       "\n",
       ".xr-section-summary-in:checked + label:before {\n",
       "  content: '▼';\n",
       "}\n",
       "\n",
       ".xr-section-summary-in:checked + label > span {\n",
       "  display: none;\n",
       "}\n",
       "\n",
       ".xr-section-summary,\n",
       ".xr-section-inline-details {\n",
       "  padding-top: 4px;\n",
       "  padding-bottom: 4px;\n",
       "}\n",
       "\n",
       ".xr-section-inline-details {\n",
       "  grid-column: 2 / -1;\n",
       "}\n",
       "\n",
       ".xr-section-details {\n",
       "  display: none;\n",
       "  grid-column: 1 / -1;\n",
       "  margin-bottom: 5px;\n",
       "}\n",
       "\n",
       ".xr-section-summary-in:checked ~ .xr-section-details {\n",
       "  display: contents;\n",
       "}\n",
       "\n",
       ".xr-array-wrap {\n",
       "  grid-column: 1 / -1;\n",
       "  display: grid;\n",
       "  grid-template-columns: 20px auto;\n",
       "}\n",
       "\n",
       ".xr-array-wrap > label {\n",
       "  grid-column: 1;\n",
       "  vertical-align: top;\n",
       "}\n",
       "\n",
       ".xr-preview {\n",
       "  color: var(--xr-font-color3);\n",
       "}\n",
       "\n",
       ".xr-array-preview,\n",
       ".xr-array-data {\n",
       "  padding: 0 5px !important;\n",
       "  grid-column: 2;\n",
       "}\n",
       "\n",
       ".xr-array-data,\n",
       ".xr-array-in:checked ~ .xr-array-preview {\n",
       "  display: none;\n",
       "}\n",
       "\n",
       ".xr-array-in:checked ~ .xr-array-data,\n",
       ".xr-array-preview {\n",
       "  display: inline-block;\n",
       "}\n",
       "\n",
       ".xr-dim-list {\n",
       "  display: inline-block !important;\n",
       "  list-style: none;\n",
       "  padding: 0 !important;\n",
       "  margin: 0;\n",
       "}\n",
       "\n",
       ".xr-dim-list li {\n",
       "  display: inline-block;\n",
       "  padding: 0;\n",
       "  margin: 0;\n",
       "}\n",
       "\n",
       ".xr-dim-list:before {\n",
       "  content: '(';\n",
       "}\n",
       "\n",
       ".xr-dim-list:after {\n",
       "  content: ')';\n",
       "}\n",
       "\n",
       ".xr-dim-list li:not(:last-child):after {\n",
       "  content: ',';\n",
       "  padding-right: 5px;\n",
       "}\n",
       "\n",
       ".xr-has-index {\n",
       "  font-weight: bold;\n",
       "}\n",
       "\n",
       ".xr-var-list,\n",
       ".xr-var-item {\n",
       "  display: contents;\n",
       "}\n",
       "\n",
       ".xr-var-item > div,\n",
       ".xr-var-item label,\n",
       ".xr-var-item > .xr-var-name span {\n",
       "  background-color: var(--xr-background-color-row-even);\n",
       "  margin-bottom: 0;\n",
       "}\n",
       "\n",
       ".xr-var-item > .xr-var-name:hover span {\n",
       "  padding-right: 5px;\n",
       "}\n",
       "\n",
       ".xr-var-list > li:nth-child(odd) > div,\n",
       ".xr-var-list > li:nth-child(odd) > label,\n",
       ".xr-var-list > li:nth-child(odd) > .xr-var-name span {\n",
       "  background-color: var(--xr-background-color-row-odd);\n",
       "}\n",
       "\n",
       ".xr-var-name {\n",
       "  grid-column: 1;\n",
       "}\n",
       "\n",
       ".xr-var-dims {\n",
       "  grid-column: 2;\n",
       "}\n",
       "\n",
       ".xr-var-dtype {\n",
       "  grid-column: 3;\n",
       "  text-align: right;\n",
       "  color: var(--xr-font-color2);\n",
       "}\n",
       "\n",
       ".xr-var-preview {\n",
       "  grid-column: 4;\n",
       "}\n",
       "\n",
       ".xr-var-name,\n",
       ".xr-var-dims,\n",
       ".xr-var-dtype,\n",
       ".xr-preview,\n",
       ".xr-attrs dt {\n",
       "  white-space: nowrap;\n",
       "  overflow: hidden;\n",
       "  text-overflow: ellipsis;\n",
       "  padding-right: 10px;\n",
       "}\n",
       "\n",
       ".xr-var-name:hover,\n",
       ".xr-var-dims:hover,\n",
       ".xr-var-dtype:hover,\n",
       ".xr-attrs dt:hover {\n",
       "  overflow: visible;\n",
       "  width: auto;\n",
       "  z-index: 1;\n",
       "}\n",
       "\n",
       ".xr-var-attrs,\n",
       ".xr-var-data {\n",
       "  display: none;\n",
       "  background-color: var(--xr-background-color) !important;\n",
       "  padding-bottom: 5px !important;\n",
       "}\n",
       "\n",
       ".xr-var-attrs-in:checked ~ .xr-var-attrs,\n",
       ".xr-var-data-in:checked ~ .xr-var-data {\n",
       "  display: block;\n",
       "}\n",
       "\n",
       ".xr-var-data > table {\n",
       "  float: right;\n",
       "}\n",
       "\n",
       ".xr-var-name span,\n",
       ".xr-var-data,\n",
       ".xr-attrs {\n",
       "  padding-left: 25px !important;\n",
       "}\n",
       "\n",
       ".xr-attrs,\n",
       ".xr-var-attrs,\n",
       ".xr-var-data {\n",
       "  grid-column: 1 / -1;\n",
       "}\n",
       "\n",
       "dl.xr-attrs {\n",
       "  padding: 0;\n",
       "  margin: 0;\n",
       "  display: grid;\n",
       "  grid-template-columns: 125px auto;\n",
       "}\n",
       "\n",
       ".xr-attrs dt,\n",
       ".xr-attrs dd {\n",
       "  padding: 0;\n",
       "  margin: 0;\n",
       "  float: left;\n",
       "  padding-right: 10px;\n",
       "  width: auto;\n",
       "}\n",
       "\n",
       ".xr-attrs dt {\n",
       "  font-weight: normal;\n",
       "  grid-column: 1;\n",
       "}\n",
       "\n",
       ".xr-attrs dt:hover span {\n",
       "  display: inline-block;\n",
       "  background: var(--xr-background-color);\n",
       "  padding-right: 10px;\n",
       "}\n",
       "\n",
       ".xr-attrs dd {\n",
       "  grid-column: 2;\n",
       "  white-space: pre-wrap;\n",
       "  word-break: break-all;\n",
       "}\n",
       "\n",
       ".xr-icon-database,\n",
       ".xr-icon-file-text2 {\n",
       "  display: inline-block;\n",
       "  vertical-align: middle;\n",
       "  width: 1em;\n",
       "  height: 1.5em !important;\n",
       "  stroke-width: 0;\n",
       "  stroke: currentColor;\n",
       "  fill: currentColor;\n",
       "}\n",
       "</style><pre class='xr-text-repr-fallback'>&lt;xarray.Dataset&gt;\n",
       "Dimensions:      (y: 5, x: 5, band: 1)\n",
       "Coordinates:\n",
       "  * y            (y) float64 3.952e+06 3.952e+06 3.952e+06 3.952e+06 3.951e+06\n",
       "  * x            (x) float64 1.213e+05 1.216e+05 1.218e+05 1.221e+05 1.224e+05\n",
       "  * band         (band) int64 1\n",
       "    spatial_ref  int64 0\n",
       "Data variables:\n",
       "    red          (band, y, x) float64 0.0 0.0 0.0 0.0 0.0 ... 0.0 0.0 0.0 0.0\n",
       "    green        (band, y, x) float64 0.0 0.0 0.0 0.0 0.0 ... 0.0 0.0 0.0 0.0\n",
       "    blue         (band, y, x) float64 0.0 0.0 0.0 0.0 0.0 ... 0.0 0.0 0.0 0.0\n",
       "    nir08        (band, y, x) float64 0.0 0.0 0.0 0.0 0.0 ... 0.0 0.0 0.0 0.0\n",
       "    swir22       (band, y, x) float64 0.0 0.0 0.0 0.0 0.0 ... 0.0 0.0 0.0 0.0</pre><div class='xr-wrap' hidden><div class='xr-header'><div class='xr-obj-type'>xarray.Dataset</div></div><ul class='xr-sections'><li class='xr-section-item'><input id='section-70699c1c-f951-40bc-9125-bb6eb6b0d41a' class='xr-section-summary-in' type='checkbox' disabled ><label for='section-70699c1c-f951-40bc-9125-bb6eb6b0d41a' class='xr-section-summary'  title='Expand/collapse section'>Dimensions:</label><div class='xr-section-inline-details'><ul class='xr-dim-list'><li><span class='xr-has-index'>y</span>: 5</li><li><span class='xr-has-index'>x</span>: 5</li><li><span class='xr-has-index'>band</span>: 1</li></ul></div><div class='xr-section-details'></div></li><li class='xr-section-item'><input id='section-0f50cc37-2f7f-4877-9f27-2fa4dbe0c06d' class='xr-section-summary-in' type='checkbox'  checked><label for='section-0f50cc37-2f7f-4877-9f27-2fa4dbe0c06d' class='xr-section-summary' >Coordinates: <span>(4)</span></label><div class='xr-section-inline-details'></div><div class='xr-section-details'><ul class='xr-var-list'><li class='xr-var-item'><div class='xr-var-name'><span class='xr-has-index'>y</span></div><div class='xr-var-dims'>(y)</div><div class='xr-var-dtype'>float64</div><div class='xr-var-preview xr-preview'>3.952e+06 3.952e+06 ... 3.951e+06</div><input id='attrs-5d5c71e1-b698-4ba2-b1cd-307d48d89c39' class='xr-var-attrs-in' type='checkbox' ><label for='attrs-5d5c71e1-b698-4ba2-b1cd-307d48d89c39' title='Show/Hide attributes'><svg class='icon xr-icon-file-text2'><use xlink:href='#icon-file-text2'></use></svg></label><input id='data-4fd17f51-1570-4dd9-8d33-cbcb6902eef1' class='xr-var-data-in' type='checkbox'><label for='data-4fd17f51-1570-4dd9-8d33-cbcb6902eef1' title='Show/Hide data repr'><svg class='icon xr-icon-database'><use xlink:href='#icon-database'></use></svg></label><div class='xr-var-attrs'><dl class='xr-attrs'><dt><span>axis :</span></dt><dd>Y</dd><dt><span>crs :</span></dt><dd>EPSG:32611</dd><dt><span>long_name :</span></dt><dd>y coordinate of projection</dd><dt><span>resolution :</span></dt><dd>-30</dd><dt><span>standard_name :</span></dt><dd>projection_y_coordinate</dd><dt><span>units :</span></dt><dd>metre</dd><dt><span>_FillValue :</span></dt><dd>nan</dd></dl></div><div class='xr-var-data'><pre>array([3952395., 3952125., 3951855., 3951585., 3951315.])</pre></div></li><li class='xr-var-item'><div class='xr-var-name'><span class='xr-has-index'>x</span></div><div class='xr-var-dims'>(x)</div><div class='xr-var-dtype'>float64</div><div class='xr-var-preview xr-preview'>1.213e+05 1.216e+05 ... 1.224e+05</div><input id='attrs-fa15253b-0a18-4c4a-b215-18c330d0ded9' class='xr-var-attrs-in' type='checkbox' ><label for='attrs-fa15253b-0a18-4c4a-b215-18c330d0ded9' title='Show/Hide attributes'><svg class='icon xr-icon-file-text2'><use xlink:href='#icon-file-text2'></use></svg></label><input id='data-6b9e692a-1d29-4a9c-90ec-c7c3f731fbe2' class='xr-var-data-in' type='checkbox'><label for='data-6b9e692a-1d29-4a9c-90ec-c7c3f731fbe2' title='Show/Hide data repr'><svg class='icon xr-icon-database'><use xlink:href='#icon-database'></use></svg></label><div class='xr-var-attrs'><dl class='xr-attrs'><dt><span>axis :</span></dt><dd>X</dd><dt><span>crs :</span></dt><dd>EPSG:32611</dd><dt><span>long_name :</span></dt><dd>x coordinate of projection</dd><dt><span>resolution :</span></dt><dd>30</dd><dt><span>standard_name :</span></dt><dd>projection_x_coordinate</dd><dt><span>units :</span></dt><dd>metre</dd><dt><span>_FillValue :</span></dt><dd>nan</dd></dl></div><div class='xr-var-data'><pre>array([121305., 121575., 121845., 122115., 122385.])</pre></div></li><li class='xr-var-item'><div class='xr-var-name'><span class='xr-has-index'>band</span></div><div class='xr-var-dims'>(band)</div><div class='xr-var-dtype'>int64</div><div class='xr-var-preview xr-preview'>1</div><input id='attrs-7b93b313-e26b-442a-b492-a0a7ff79e275' class='xr-var-attrs-in' type='checkbox' disabled><label for='attrs-7b93b313-e26b-442a-b492-a0a7ff79e275' title='Show/Hide attributes'><svg class='icon xr-icon-file-text2'><use xlink:href='#icon-file-text2'></use></svg></label><input id='data-2650c6b5-7942-4b49-ac97-365ea38dbd17' class='xr-var-data-in' type='checkbox'><label for='data-2650c6b5-7942-4b49-ac97-365ea38dbd17' title='Show/Hide data repr'><svg class='icon xr-icon-database'><use xlink:href='#icon-database'></use></svg></label><div class='xr-var-attrs'><dl class='xr-attrs'></dl></div><div class='xr-var-data'><pre>array([1])</pre></div></li><li class='xr-var-item'><div class='xr-var-name'><span>spatial_ref</span></div><div class='xr-var-dims'>()</div><div class='xr-var-dtype'>int64</div><div class='xr-var-preview xr-preview'>0</div><input id='attrs-5a6fce70-a987-4b85-abb8-a15b358c9338' class='xr-var-attrs-in' type='checkbox' ><label for='attrs-5a6fce70-a987-4b85-abb8-a15b358c9338' title='Show/Hide attributes'><svg class='icon xr-icon-file-text2'><use xlink:href='#icon-file-text2'></use></svg></label><input id='data-9f261e7d-5f01-451b-9702-0d6a10402444' class='xr-var-data-in' type='checkbox'><label for='data-9f261e7d-5f01-451b-9702-0d6a10402444' title='Show/Hide data repr'><svg class='icon xr-icon-database'><use xlink:href='#icon-database'></use></svg></label><div class='xr-var-attrs'><dl class='xr-attrs'><dt><span>crs_wkt :</span></dt><dd>PROJCS[&quot;WGS 84 / UTM zone 11N&quot;,GEOGCS[&quot;WGS 84&quot;,DATUM[&quot;WGS_1984&quot;,SPHEROID[&quot;WGS 84&quot;,6378137,298.257223563]],PRIMEM[&quot;Greenwich&quot;,0],UNIT[&quot;degree&quot;,0.0174532925199433,AUTHORITY[&quot;EPSG&quot;,&quot;9122&quot;]],AUTHORITY[&quot;EPSG&quot;,&quot;4326&quot;]],PROJECTION[&quot;Transverse_Mercator&quot;],PARAMETER[&quot;latitude_of_origin&quot;,0],PARAMETER[&quot;central_meridian&quot;,-117],PARAMETER[&quot;scale_factor&quot;,0.9996],PARAMETER[&quot;false_easting&quot;,500000],PARAMETER[&quot;false_northing&quot;,0],UNIT[&quot;metre&quot;,1],AXIS[&quot;Easting&quot;,EAST],AXIS[&quot;Northing&quot;,NORTH],AUTHORITY[&quot;EPSG&quot;,&quot;32611&quot;]]</dd><dt><span>semi_major_axis :</span></dt><dd>6378137.0</dd><dt><span>semi_minor_axis :</span></dt><dd>6356752.314245179</dd><dt><span>inverse_flattening :</span></dt><dd>298.257223563</dd><dt><span>reference_ellipsoid_name :</span></dt><dd>WGS 84</dd><dt><span>longitude_of_prime_meridian :</span></dt><dd>0.0</dd><dt><span>prime_meridian_name :</span></dt><dd>Greenwich</dd><dt><span>geographic_crs_name :</span></dt><dd>WGS 84</dd><dt><span>horizontal_datum_name :</span></dt><dd>World Geodetic System 1984</dd><dt><span>projected_crs_name :</span></dt><dd>WGS 84 / UTM zone 11N</dd><dt><span>grid_mapping_name :</span></dt><dd>transverse_mercator</dd><dt><span>latitude_of_projection_origin :</span></dt><dd>0.0</dd><dt><span>longitude_of_central_meridian :</span></dt><dd>-117.0</dd><dt><span>false_easting :</span></dt><dd>500000.0</dd><dt><span>false_northing :</span></dt><dd>0.0</dd><dt><span>scale_factor_at_central_meridian :</span></dt><dd>0.9996</dd><dt><span>spatial_ref :</span></dt><dd>PROJCS[&quot;WGS 84 / UTM zone 11N&quot;,GEOGCS[&quot;WGS 84&quot;,DATUM[&quot;WGS_1984&quot;,SPHEROID[&quot;WGS 84&quot;,6378137,298.257223563]],PRIMEM[&quot;Greenwich&quot;,0],UNIT[&quot;degree&quot;,0.0174532925199433,AUTHORITY[&quot;EPSG&quot;,&quot;9122&quot;]],AUTHORITY[&quot;EPSG&quot;,&quot;4326&quot;]],PROJECTION[&quot;Transverse_Mercator&quot;],PARAMETER[&quot;latitude_of_origin&quot;,0],PARAMETER[&quot;central_meridian&quot;,-117],PARAMETER[&quot;scale_factor&quot;,0.9996],PARAMETER[&quot;false_easting&quot;,500000],PARAMETER[&quot;false_northing&quot;,0],UNIT[&quot;metre&quot;,1],AXIS[&quot;Easting&quot;,EAST],AXIS[&quot;Northing&quot;,NORTH],AUTHORITY[&quot;EPSG&quot;,&quot;32611&quot;]]</dd><dt><span>GeoTransform :</span></dt><dd>121170.0 270.0 0.0 3952530.0 0.0 -270.0</dd></dl></div><div class='xr-var-data'><pre>array(0)</pre></div></li></ul></div></li><li class='xr-section-item'><input id='section-6bfa637e-4667-412d-bc40-5c0970032326' class='xr-section-summary-in' type='checkbox'  checked><label for='section-6bfa637e-4667-412d-bc40-5c0970032326' class='xr-section-summary' >Data variables: <span>(5)</span></label><div class='xr-section-inline-details'></div><div class='xr-section-details'><ul class='xr-var-list'><li class='xr-var-item'><div class='xr-var-name'><span>red</span></div><div class='xr-var-dims'>(band, y, x)</div><div class='xr-var-dtype'>float64</div><div class='xr-var-preview xr-preview'>...</div><input id='attrs-d8106008-8e85-4254-ade2-529f3f318e5f' class='xr-var-attrs-in' type='checkbox' ><label for='attrs-d8106008-8e85-4254-ade2-529f3f318e5f' title='Show/Hide attributes'><svg class='icon xr-icon-file-text2'><use xlink:href='#icon-file-text2'></use></svg></label><input id='data-2f84ec7a-6a19-4448-87ab-4d8f5dcc92cd' class='xr-var-data-in' type='checkbox'><label for='data-2f84ec7a-6a19-4448-87ab-4d8f5dcc92cd' title='Show/Hide data repr'><svg class='icon xr-icon-database'><use xlink:href='#icon-database'></use></svg></label><div class='xr-var-attrs'><dl class='xr-attrs'><dt><span>add_offset :</span></dt><dd>0.0</dd><dt><span>coordinates :</span></dt><dd>time</dd><dt><span>scale_factor :</span></dt><dd>1.0</dd><dt><span>_FillValue :</span></dt><dd>0.0</dd></dl></div><div class='xr-var-data'><pre>array([[[0., 0., 0., 0., 0.],\n",
       "        [0., 0., 0., 0., 0.],\n",
       "        [0., 0., 0., 0., 0.],\n",
       "        [0., 0., 0., 0., 0.],\n",
       "        [0., 0., 0., 0., 0.]]])</pre></div></li><li class='xr-var-item'><div class='xr-var-name'><span>green</span></div><div class='xr-var-dims'>(band, y, x)</div><div class='xr-var-dtype'>float64</div><div class='xr-var-preview xr-preview'>...</div><input id='attrs-e27f9ec2-4f05-4b1b-be50-f1d2ee9cff99' class='xr-var-attrs-in' type='checkbox' ><label for='attrs-e27f9ec2-4f05-4b1b-be50-f1d2ee9cff99' title='Show/Hide attributes'><svg class='icon xr-icon-file-text2'><use xlink:href='#icon-file-text2'></use></svg></label><input id='data-faab39b5-57cc-4629-aa1d-7b6ce20d9d01' class='xr-var-data-in' type='checkbox'><label for='data-faab39b5-57cc-4629-aa1d-7b6ce20d9d01' title='Show/Hide data repr'><svg class='icon xr-icon-database'><use xlink:href='#icon-database'></use></svg></label><div class='xr-var-attrs'><dl class='xr-attrs'><dt><span>add_offset :</span></dt><dd>0.0</dd><dt><span>coordinates :</span></dt><dd>time</dd><dt><span>scale_factor :</span></dt><dd>1.0</dd><dt><span>_FillValue :</span></dt><dd>0.0</dd></dl></div><div class='xr-var-data'><pre>array([[[0., 0., 0., 0., 0.],\n",
       "        [0., 0., 0., 0., 0.],\n",
       "        [0., 0., 0., 0., 0.],\n",
       "        [0., 0., 0., 0., 0.],\n",
       "        [0., 0., 0., 0., 0.]]])</pre></div></li><li class='xr-var-item'><div class='xr-var-name'><span>blue</span></div><div class='xr-var-dims'>(band, y, x)</div><div class='xr-var-dtype'>float64</div><div class='xr-var-preview xr-preview'>...</div><input id='attrs-8c05455e-89dc-44fe-918a-40be056a8001' class='xr-var-attrs-in' type='checkbox' ><label for='attrs-8c05455e-89dc-44fe-918a-40be056a8001' title='Show/Hide attributes'><svg class='icon xr-icon-file-text2'><use xlink:href='#icon-file-text2'></use></svg></label><input id='data-e0613732-e4d9-470d-b682-c69daad316e4' class='xr-var-data-in' type='checkbox'><label for='data-e0613732-e4d9-470d-b682-c69daad316e4' title='Show/Hide data repr'><svg class='icon xr-icon-database'><use xlink:href='#icon-database'></use></svg></label><div class='xr-var-attrs'><dl class='xr-attrs'><dt><span>add_offset :</span></dt><dd>0.0</dd><dt><span>coordinates :</span></dt><dd>time</dd><dt><span>scale_factor :</span></dt><dd>1.0</dd><dt><span>_FillValue :</span></dt><dd>0.0</dd></dl></div><div class='xr-var-data'><pre>array([[[0., 0., 0., 0., 0.],\n",
       "        [0., 0., 0., 0., 0.],\n",
       "        [0., 0., 0., 0., 0.],\n",
       "        [0., 0., 0., 0., 0.],\n",
       "        [0., 0., 0., 0., 0.]]])</pre></div></li><li class='xr-var-item'><div class='xr-var-name'><span>nir08</span></div><div class='xr-var-dims'>(band, y, x)</div><div class='xr-var-dtype'>float64</div><div class='xr-var-preview xr-preview'>...</div><input id='attrs-a50064c7-6604-47f7-8e83-3a0e6dd03bef' class='xr-var-attrs-in' type='checkbox' ><label for='attrs-a50064c7-6604-47f7-8e83-3a0e6dd03bef' title='Show/Hide attributes'><svg class='icon xr-icon-file-text2'><use xlink:href='#icon-file-text2'></use></svg></label><input id='data-8cf2ed94-92a1-4d24-a9ae-e12a7c032d2f' class='xr-var-data-in' type='checkbox'><label for='data-8cf2ed94-92a1-4d24-a9ae-e12a7c032d2f' title='Show/Hide data repr'><svg class='icon xr-icon-database'><use xlink:href='#icon-database'></use></svg></label><div class='xr-var-attrs'><dl class='xr-attrs'><dt><span>add_offset :</span></dt><dd>0.0</dd><dt><span>coordinates :</span></dt><dd>time</dd><dt><span>scale_factor :</span></dt><dd>1.0</dd><dt><span>_FillValue :</span></dt><dd>0.0</dd></dl></div><div class='xr-var-data'><pre>array([[[0., 0., 0., 0., 0.],\n",
       "        [0., 0., 0., 0., 0.],\n",
       "        [0., 0., 0., 0., 0.],\n",
       "        [0., 0., 0., 0., 0.],\n",
       "        [0., 0., 0., 0., 0.]]])</pre></div></li><li class='xr-var-item'><div class='xr-var-name'><span>swir22</span></div><div class='xr-var-dims'>(band, y, x)</div><div class='xr-var-dtype'>float64</div><div class='xr-var-preview xr-preview'>...</div><input id='attrs-8f7bdb24-5a8b-40a8-97eb-18bf9d8c2175' class='xr-var-attrs-in' type='checkbox' ><label for='attrs-8f7bdb24-5a8b-40a8-97eb-18bf9d8c2175' title='Show/Hide attributes'><svg class='icon xr-icon-file-text2'><use xlink:href='#icon-file-text2'></use></svg></label><input id='data-9dcfaa9f-b508-4983-a775-0b88f3248d51' class='xr-var-data-in' type='checkbox'><label for='data-9dcfaa9f-b508-4983-a775-0b88f3248d51' title='Show/Hide data repr'><svg class='icon xr-icon-database'><use xlink:href='#icon-database'></use></svg></label><div class='xr-var-attrs'><dl class='xr-attrs'><dt><span>add_offset :</span></dt><dd>0.0</dd><dt><span>coordinates :</span></dt><dd>time</dd><dt><span>scale_factor :</span></dt><dd>1.0</dd><dt><span>_FillValue :</span></dt><dd>0.0</dd></dl></div><div class='xr-var-data'><pre>array([[[0., 0., 0., 0., 0.],\n",
       "        [0., 0., 0., 0., 0.],\n",
       "        [0., 0., 0., 0., 0.],\n",
       "        [0., 0., 0., 0., 0.],\n",
       "        [0., 0., 0., 0., 0.]]])</pre></div></li></ul></div></li><li class='xr-section-item'><input id='section-b19fc300-f36e-4918-bb13-ff732b7d6e5a' class='xr-section-summary-in' type='checkbox' disabled ><label for='section-b19fc300-f36e-4918-bb13-ff732b7d6e5a' class='xr-section-summary'  title='Expand/collapse section'>Attributes: <span>(0)</span></label><div class='xr-section-inline-details'></div><div class='xr-section-details'><dl class='xr-attrs'></dl></div></li></ul></div></div>"
      ],
      "text/plain": [
       "<xarray.Dataset>\n",
       "Dimensions:      (y: 5, x: 5, band: 1)\n",
       "Coordinates:\n",
       "  * y            (y) float64 3.952e+06 3.952e+06 3.952e+06 3.952e+06 3.951e+06\n",
       "  * x            (x) float64 1.213e+05 1.216e+05 1.218e+05 1.221e+05 1.224e+05\n",
       "  * band         (band) int64 1\n",
       "    spatial_ref  int64 0\n",
       "Data variables:\n",
       "    red          (band, y, x) float64 ...\n",
       "    green        (band, y, x) float64 ...\n",
       "    blue         (band, y, x) float64 ...\n",
       "    nir08        (band, y, x) float64 ...\n",
       "    swir22       (band, y, x) float64 ..."
      ]
     },
     "execution_count": 10,
     "metadata": {},
     "output_type": "execute_result"
    }
   ],
   "source": [
    "# Display the first few rows of the DataFrame to get an overview of the data\n",
    "\n",
    "landsat.head()"
   ]
  },
  {
   "cell_type": "code",
   "execution_count": 21,
   "id": "276f55de-4b7c-4950-98e2-5b28f7869bb7",
   "metadata": {
    "tags": []
   },
   "outputs": [
    {
     "name": "stdout",
     "output_type": "stream",
     "text": [
      "\n",
      "Variables in the Dataset:\n",
      "Data variables:\n",
      "    red      (band, y, x) float64 ...\n",
      "    green    (band, y, x) float64 ...\n",
      "    blue     (band, y, x) float64 ...\n",
      "    nir08    (band, y, x) float64 ...\n",
      "    swir22   (band, y, x) float64 ...\n"
     ]
    }
   ],
   "source": [
    "# Check what variables are in the dataset\n",
    "print(\"\\nVariables in the Dataset:\")\n",
    "print(landsat.data_vars)"
   ]
  },
  {
   "cell_type": "code",
   "execution_count": 22,
   "id": "95c9cf7d-e537-45cb-92ca-315cc4651c38",
   "metadata": {
    "tags": []
   },
   "outputs": [
    {
     "name": "stdout",
     "output_type": "stream",
     "text": [
      "\n",
      "Shape of the raster data (height x width x bands): (1, 731, 870)\n",
      "Dimensions of the raster data: ('band', 'y', 'x')\n",
      "Data type of the raster data: float64\n"
     ]
    }
   ],
   "source": [
    "# 3. Dataset Information\n",
    "raster_data = landsat['red'] \n",
    "print(\"\\nShape of the raster data (height x width x bands):\", raster_data.shape)\n",
    "print(\"Dimensions of the raster data:\", raster_data.dims)\n",
    "print(\"Data type of the raster data:\", raster_data.dtype)"
   ]
  },
  {
   "cell_type": "code",
   "execution_count": 23,
   "id": "e6b3d73f-ca1e-4827-a098-eb4798f614dc",
   "metadata": {
    "tags": []
   },
   "outputs": [
    {
     "name": "stdout",
     "output_type": "stream",
     "text": [
      "Coordinate reference system (CRS): EPSG:32611\n",
      "Dimensions of the data: Frozen({'y': 731, 'x': 870, 'band': 1})\n"
     ]
    }
   ],
   "source": [
    "# Check the CRS\n",
    "print(\"Coordinate reference system (CRS):\", landsat.rio.crs)\n",
    "# Using the 'dims' attribute to inspect dimensions\n",
    "print(\"Dimensions of the data:\", landsat.dims)  \n"
   ]
  },
  {
   "cell_type": "markdown",
   "id": "463301a4-0c60-4943-8e77-d02154b19aba",
   "metadata": {},
   "source": [
    "# Summary\n",
    "\n",
    "The dataset loaded is a Landsat 8 image, collected on January 26, 2018. The data is in NetCDF format, simplified for analysis, and contains information about the surface reflectance captured by the Landsat 8 satellite sensor. It consists of several spectral bands, which are typically used to derive information about the Earth's surface, vegetation, and atmosphere.\n",
    "\n",
    "**Variables in the Dataset** \n",
    "\n",
    "The dataset contains several variables related to different spectral bands from the Landsat 8 satellite. The exact variable names may vary, but they are typically stored as xarray.DataArray objects. Upon inspecting the dataset, you will find variables that correspond to the different bands of the satellite imagery, which might include:\n",
    "\n",
    "Band 1: Coastal/Aerosol\n",
    "Band 2: Blue\n",
    "Band 3: Green\n",
    "Band 4: Red\n",
    "Band 5: Near Infrared (NIR)\n",
    "Band 6: Shortwave Infrared (SWIR 1)\n",
    "Band 7: Shortwave Infrared (SWIR 2)\n",
    "\n",
    "**Coordinate reference system (CRS):**\n",
    "\n",
    "EPSG:32611,  this is a projected coordinate reference system, not a geographic CRS. \n",
    "\n",
    "**Dimensions of the data:**\n",
    "\n",
    "The dataset contains a raster grid with dimensions\n",
    "Frozen({'y': 731, 'x': 870, 'band': 1})"
   ]
  },
  {
   "cell_type": "markdown",
   "id": "f9b2be9c-d6eb-4857-ba3b-70893fac075b",
   "metadata": {},
   "source": [
    "From your fire perimeter data, select the Thomas Fire boundary. The fire occurred in 2017.\n",
    "\n"
   ]
  },
  {
   "cell_type": "markdown",
   "id": "7c2ceaf7-6dca-4fce-ba7a-6303c5910ff7",
   "metadata": {},
   "source": [
    "Save only the 2017 Thomas Fire boundary as a geospatial file in the format of your choosing. The file should go into the data/ directory in your repository."
   ]
  },
  {
   "cell_type": "markdown",
   "id": "b53be500-8055-490b-aff6-194abe2fc91d",
   "metadata": {},
   "source": [
    "In a markdown cell, briefly explain your reasoning for selecting that specific file format."
   ]
  },
  {
   "cell_type": "markdown",
   "id": "6dca27f7-9353-4300-aec9-a3560bc20d79",
   "metadata": {},
   "source": [
    "## 3. True color image"
   ]
  },
  {
   "cell_type": "code",
   "execution_count": null,
   "id": "2ee59a58-6620-4a8f-a168-021b35c980db",
   "metadata": {},
   "outputs": [],
   "source": [
    "Construct a file path to the Landsat data using os and import it using rioxr.open_rasterio()."
   ]
  },
  {
   "cell_type": "code",
   "execution_count": null,
   "id": "09a4e636-c8af-4ae7-a301-3d8219fd57cc",
   "metadata": {},
   "outputs": [],
   "source": [
    "Explore the data and write a brief summary of the information you obtained from the preliminary information. Your summary should include the a description of the data’s variables and dimensions."
   ]
  },
  {
   "cell_type": "code",
   "execution_count": null,
   "id": "d180d1b2-a7eb-403e-8477-2ad7e55e035f",
   "metadata": {},
   "outputs": [],
   "source": [
    "Drop the band dimension of the data. HINT: squeeze() and drop_vars()."
   ]
  },
  {
   "cell_type": "code",
   "execution_count": null,
   "id": "93ca471e-3a8d-4bc3-9cc3-a89ecda0a61c",
   "metadata": {},
   "outputs": [],
   "source": [
    "Without creating any new variables:\n",
    "\n",
    "- select the red, green, and blue variables (in that order) of the xarray.Dataset holding the Landsat data,\n",
    "- convert it to a numpy.array using the to_array() method, and then\n",
    "- use .plot.imshow() to create an RGB image with the data. There will be a warning, that’s ok."
   ]
  },
  {
   "cell_type": "code",
   "execution_count": null,
   "id": "8e4bf42a-4277-4388-9b9c-cb22dec030a2",
   "metadata": {},
   "outputs": [],
   "source": [
    "Adjust the scale used for plotting the bands to get a true color image. HINT: Check the robust parameter. The issue here is the clouds: their RGB values are outliers and cause the other values to be squished when plotting."
   ]
  },
  {
   "cell_type": "code",
   "execution_count": null,
   "id": "a03b3caa-5076-4246-a85d-2c69613ff0fe",
   "metadata": {},
   "outputs": [],
   "source": [
    "In a markdown cell write a brief explanation comparing the ouputs for parts (a) and (b)."
   ]
  },
  {
   "cell_type": "markdown",
   "id": "cb2a6ca6-b8f8-4933-87e5-46e418c7ffcd",
   "metadata": {},
   "source": [
    "## 4. False color image"
   ]
  },
  {
   "cell_type": "markdown",
   "id": "717e7c1d-1a74-4772-9e8d-6247e36dbeae",
   "metadata": {},
   "source": [
    "Without creating any new variables, create a false color image by plotting the short-wave infrared (swir22), near-infrared, and red variables (in that order)."
   ]
  },
  {
   "cell_type": "code",
   "execution_count": null,
   "id": "36dcc220-bc63-4a90-9848-3c916bc52d63",
   "metadata": {},
   "outputs": [],
   "source": []
  },
  {
   "cell_type": "markdown",
   "id": "44570a61-5d13-4238-b3fd-af96fc559757",
   "metadata": {
    "tags": []
   },
   "source": [
    "## 5. Map"
   ]
  },
  {
   "cell_type": "markdown",
   "id": "1cdcf3dc-da11-40b2-9c8f-a1746d3f0021",
   "metadata": {},
   "source": [
    "Create a map showing the shortwave infrared/near-infrared/red false color image together with the Thomas Fire perimeter. Customize it appropriately including, at least, an informative title and legend.\n",
    "\n",
    "Write a figure description for the map including a brief explanation of how false color imagery is being used.\n",
    "\n"
   ]
  },
  {
   "cell_type": "markdown",
   "id": "752c8ae2-9850-4d9c-92bc-09b1cf3a8a27",
   "metadata": {
    "tags": []
   },
   "source": [
    "## 6. Clean your notebooks"
   ]
  },
  {
   "cell_type": "code",
   "execution_count": null,
   "id": "e5d1860e-8207-4076-88d0-31e5ae82ec4a",
   "metadata": {},
   "outputs": [],
   "source": []
  },
  {
   "cell_type": "code",
   "execution_count": null,
   "id": "c43d0784-26d2-4bb8-9f25-096faad5a24d",
   "metadata": {},
   "outputs": [],
   "source": [
    "#7. Update your repository"
   ]
  },
  {
   "cell_type": "code",
   "execution_count": null,
   "id": "a2d8f1a5-a7c1-4134-89f5-3bed1402a40b",
   "metadata": {},
   "outputs": [],
   "source": []
  },
  {
   "cell_type": "code",
   "execution_count": null,
   "id": "a5ff1e92-9ed5-4ab0-8644-b828b02958c1",
   "metadata": {},
   "outputs": [],
   "source": []
  },
  {
   "cell_type": "code",
   "execution_count": null,
   "id": "35c71bcd-d836-4070-9678-25f07e1aaf01",
   "metadata": {},
   "outputs": [],
   "source": []
  },
  {
   "cell_type": "code",
   "execution_count": null,
   "id": "218850df-0acd-42e2-8882-eab23eec3055",
   "metadata": {},
   "outputs": [],
   "source": []
  },
  {
   "cell_type": "code",
   "execution_count": null,
   "id": "50ac3c00-2ba7-4bc1-9d1c-1f822759085b",
   "metadata": {},
   "outputs": [],
   "source": []
  },
  {
   "cell_type": "code",
   "execution_count": null,
   "id": "cea47456-a4a1-416e-91de-02f98e03ee84",
   "metadata": {},
   "outputs": [],
   "source": []
  }
 ],
 "metadata": {
  "kernelspec": {
   "display_name": "Anaconda 3 (Base)",
   "language": "python",
   "name": "base"
  },
  "language_info": {
   "codemirror_mode": {
    "name": "ipython",
    "version": 3
   },
   "file_extension": ".py",
   "mimetype": "text/x-python",
   "name": "python",
   "nbconvert_exporter": "python",
   "pygments_lexer": "ipython3",
   "version": "3.9.13"
  }
 },
 "nbformat": 4,
 "nbformat_minor": 5
}
